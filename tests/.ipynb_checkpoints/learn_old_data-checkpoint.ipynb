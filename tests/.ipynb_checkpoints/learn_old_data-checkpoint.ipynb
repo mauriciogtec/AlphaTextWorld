{
 "cells": [
  {
   "cell_type": "code",
   "execution_count": 1,
   "metadata": {},
   "outputs": [],
   "source": [
    "import tensorflow as tf\n",
    "import numpy as np\n",
    "import glob\n",
    "import json\n",
    "import pdb\n",
    "import sys\n",
    "\n",
    "sys.path.append(\"../\")"
   ]
  },
  {
   "cell_type": "code",
   "execution_count": 2,
   "metadata": {},
   "outputs": [],
   "source": [
    "# load embeddings\n",
    "\n",
    "import textutils as tu\n",
    "\n",
    "textworld_vocab = set()\n",
    "with open('/home/mauriciogtec/Github/TextWorld/montecarlo/vocab.txt', 'r') as fn:\n",
    "    for line in fn:\n",
    "        word = line[:-1]\n",
    "        textworld_vocab.add(word)\n",
    "\n",
    "embeddings, vocab = tu.load_embeddings(\n",
    "    embeddingsdir=\"/home/mauriciogtec/glove.6B/\",\n",
    "    embedding_dim=200,  # try 50\n",
    "    vocab=textworld_vocab)\n",
    "np.random.seed(110104)\n",
    "index = np.random.permutation(range(200))[:128]\n",
    "embeddings = embeddings[index, :]"
   ]
  },
  {
   "cell_type": "code",
   "execution_count": 3,
   "metadata": {},
   "outputs": [
    {
     "name": "stdout",
     "output_type": "stream",
     "text": [
      "number data points\n",
      "94633\n"
     ]
    }
   ],
   "source": [
    "# load data files\n",
    "datafiles = glob.glob(\"../data/*.json\")\n",
    "datafiles.sort(reverse=True)\n",
    "\n",
    "num_files = 50\n",
    "cmdlist_list = []\n",
    "memory_list = []\n",
    "counts_list = []\n",
    "rewards_list = []\n",
    "for i in range(num_files):\n",
    "    with open(datafiles[i],'r') as fn:\n",
    "        data_array = json.load(fn)\n",
    "        for d in data_array:\n",
    "            rewards_list.append(d['reward'])\n",
    "            cmdlist_list.append(d['cmdlist'])\n",
    "            counts_list.append(d['counts'])\n",
    "            memory_list.append(d['memory'])\n",
    "            \n",
    "N = len(cmdlist_list)\n",
    "idx = np.random.permutation(range(N))\n",
    "cmdlist_list = [cmdlist_list[i] for i in idx]\n",
    "memory_list = [memory_list[i] for i in idx]\n",
    "counts_list = [counts_list[i] for i in idx]\n",
    "rewards_list = [rewards_list[i] for i in idx]\n",
    "print(\"number data points\")\n",
    "print(len(cmdlist_list))"
   ]
  },
  {
   "cell_type": "code",
   "execution_count": 4,
   "metadata": {},
   "outputs": [
    {
     "name": "stdout",
     "output_type": "stream",
     "text": [
      "Model: \"alpha_text_world_net\"\n",
      "_________________________________________________________________\n",
      "Layer (type)                 Output Shape              Param #   \n",
      "=================================================================\n",
      "embeddings (Embedding)       multiple                  2572672   \n",
      "_________________________________________________________________\n",
      "memory_encoder (SelfAttentio multiple                  54016     \n",
      "_________________________________________________________________\n",
      "cmd_encoder (SelfAttentionEn multiple                  37440     \n",
      "_________________________________________________________________\n",
      "att_encoder (AttentionEncode multiple                  33152     \n",
      "_________________________________________________________________\n",
      "value_time_encode (TimeSelfA multiple                  4225      \n",
      "_________________________________________________________________\n",
      "value_turn_encode (TimeSelfA multiple                  6561      \n",
      "_________________________________________________________________\n",
      "value_head (DenseHead)       multiple                  5249      \n",
      "_________________________________________________________________\n",
      "cmd_turn_encode (TimeSelfAtt multiple                  6561      \n",
      "_________________________________________________________________\n",
      "policy_head (DenseHead)      multiple                  6561      \n",
      "=================================================================\n",
      "Total params: 2,726,437\n",
      "Trainable params: 2,726,437\n",
      "Non-trainable params: 0\n",
      "_________________________________________________________________\n"
     ]
    }
   ],
   "source": [
    "import attentionnetwork as nn\n",
    "\n",
    "model = nn.AlphaTextWorldNet(embeddings, vocab)\n",
    "\n",
    "optim = tf.optimizers.Nadam(\n",
    "    learning_rate=0.00001,\n",
    "    clipnorm=30.0,\n",
    "    beta_1=0.9,\n",
    "    beta_2=0.98)\n",
    "\n",
    "def train(memory, cmdlist, value, policy):\n",
    "    inputs = (memory, cmdlist)    \n",
    "    value_loss, policy_loss, loss = 0, 0, 0\n",
    "    with tf.GradientTape() as tape:\n",
    "        vhat, phat = model(inputs, training=True)\n",
    "        value_loss += tf.math.reduce_sum(tf.square(value - vhat))\n",
    "        phat = tf.math.softmax(phat)\n",
    "        logphat = tf.math.log(phat + 1e-12)\n",
    "        policy_loss += -tf.reduce_sum(logphat * policy)\n",
    "        loss += value_loss + policy_loss\n",
    "\n",
    "    variables = model.trainable_variables\n",
    "    gradients = tape.gradient(loss, variables)\n",
    "    update = optim.apply_gradients(zip(gradients, variables))\n",
    "    \n",
    "    return value_loss, policy_loss, loss\n",
    "\n",
    "out = model(([\"this\", \"is a test\"], [\"hi there\", \"how are you here\"]), training=True)\n",
    "model.summary()"
   ]
  },
  {
   "cell_type": "code",
   "execution_count": 13,
   "metadata": {},
   "outputs": [
    {
     "name": "stdout",
     "output_type": "stream",
     "text": [
      "'tensorflow.python.framework.ops.EagerTensor' object has no attribute '2f'\n",
      "memory = [\"You are hungry! Let's cook a delicious meal. Check the cookbook in the kitchen for the recipe. Once done, enjoy your meal!\\n\\n-\", \"\\n-= Backyard =-\\nYou're now in a backyard. You begin to take stock of what's here.\\n\\nYou see a patio table. The patio table is stylish. But the thing is empty. You smell a great smell, and follow it to a patio chair. But there isn't a thing on it. Aw, here you were, all excited for there to be things on it! You can see a closed BBQ.\\n\\nThere is a closed patio door leading east. There is a closed barn door leading south. There is an exit to the north. Don't worry, there is no door.\\n\\n\", 'You open barn door.\\n', 'You have to open the patio door first.\\n', 'You open patio door.\\n', '\\n-= Garden =-\\nYou find yourself in a garden. A standard one. You decide to start listing off everything you see in the room, as if you were in a text adventure.\\n\\n\\n\\nThere is an exit to the south.\\n\\nThere is an orange bell pepper on the floor.\\n', 'You pick up the orange bell pepper from the ground.\\n\\n', \"You can't go that way.\\n\", \"You can't go that way.\\n\", \"You can't go that way.\\n\", \"You can't go that way.\\n\", \"You can't go that way.\\n\", \"You can't go that way.\\n\", \"You can't go that way.\\n\"]\n",
      "\n",
      "memorylen=14\n",
      "\n",
      "cmdlist=['go north', 'go west', 'go east', 'go south']\n",
      "> <ipython-input-13-00a435c241bf>(12)<module>()\n",
      "-> for i in range(2000, len(cmdlist_list)):\n"
     ]
    },
    {
     "name": "stdin",
     "output_type": "stream",
     "text": [
      "(Pdb)  q\n"
     ]
    },
    {
     "ename": "BdbQuit",
     "evalue": "",
     "output_type": "error",
     "traceback": [
      "\u001b[0;31m---------------------------------------------------------------------------\u001b[0m",
      "\u001b[0;31mBdbQuit\u001b[0m                                   Traceback (most recent call last)",
      "\u001b[0;32m<ipython-input-13-00a435c241bf>\u001b[0m in \u001b[0;36m<module>\u001b[0;34m\u001b[0m\n\u001b[1;32m     10\u001b[0m \u001b[0;32mwith\u001b[0m \u001b[0mtf\u001b[0m\u001b[0;34m.\u001b[0m\u001b[0mdevice\u001b[0m\u001b[0;34m(\u001b[0m\u001b[0;34m'/gpu:0'\u001b[0m\u001b[0;34m)\u001b[0m\u001b[0;34m:\u001b[0m\u001b[0;34m\u001b[0m\u001b[0;34m\u001b[0m\u001b[0m\n\u001b[1;32m     11\u001b[0m     \u001b[0;32mfor\u001b[0m \u001b[0mepoch\u001b[0m \u001b[0;32min\u001b[0m \u001b[0mrange\u001b[0m\u001b[0;34m(\u001b[0m\u001b[0;36m5\u001b[0m\u001b[0;34m)\u001b[0m\u001b[0;34m:\u001b[0m\u001b[0;34m\u001b[0m\u001b[0;34m\u001b[0m\u001b[0m\n\u001b[0;32m---> 12\u001b[0;31m         \u001b[0;32mfor\u001b[0m \u001b[0mi\u001b[0m \u001b[0;32min\u001b[0m \u001b[0mrange\u001b[0m\u001b[0;34m(\u001b[0m\u001b[0;36m2000\u001b[0m\u001b[0;34m,\u001b[0m \u001b[0mlen\u001b[0m\u001b[0;34m(\u001b[0m\u001b[0mcmdlist_list\u001b[0m\u001b[0;34m)\u001b[0m\u001b[0;34m)\u001b[0m\u001b[0;34m:\u001b[0m\u001b[0;34m\u001b[0m\u001b[0;34m\u001b[0m\u001b[0m\n\u001b[0m\u001b[1;32m     13\u001b[0m \u001b[0;34m\u001b[0m\u001b[0m\n\u001b[1;32m     14\u001b[0m             \u001b[0mcmdlist\u001b[0m \u001b[0;34m=\u001b[0m \u001b[0mcmdlist_list\u001b[0m\u001b[0;34m[\u001b[0m\u001b[0mi\u001b[0m\u001b[0;34m]\u001b[0m\u001b[0;34m\u001b[0m\u001b[0;34m\u001b[0m\u001b[0m\n",
      "\u001b[0;32m<ipython-input-13-00a435c241bf>\u001b[0m in \u001b[0;36m<module>\u001b[0;34m\u001b[0m\n\u001b[1;32m     10\u001b[0m \u001b[0;32mwith\u001b[0m \u001b[0mtf\u001b[0m\u001b[0;34m.\u001b[0m\u001b[0mdevice\u001b[0m\u001b[0;34m(\u001b[0m\u001b[0;34m'/gpu:0'\u001b[0m\u001b[0;34m)\u001b[0m\u001b[0;34m:\u001b[0m\u001b[0;34m\u001b[0m\u001b[0;34m\u001b[0m\u001b[0m\n\u001b[1;32m     11\u001b[0m     \u001b[0;32mfor\u001b[0m \u001b[0mepoch\u001b[0m \u001b[0;32min\u001b[0m \u001b[0mrange\u001b[0m\u001b[0;34m(\u001b[0m\u001b[0;36m5\u001b[0m\u001b[0;34m)\u001b[0m\u001b[0;34m:\u001b[0m\u001b[0;34m\u001b[0m\u001b[0;34m\u001b[0m\u001b[0m\n\u001b[0;32m---> 12\u001b[0;31m         \u001b[0;32mfor\u001b[0m \u001b[0mi\u001b[0m \u001b[0;32min\u001b[0m \u001b[0mrange\u001b[0m\u001b[0;34m(\u001b[0m\u001b[0;36m2000\u001b[0m\u001b[0;34m,\u001b[0m \u001b[0mlen\u001b[0m\u001b[0;34m(\u001b[0m\u001b[0mcmdlist_list\u001b[0m\u001b[0;34m)\u001b[0m\u001b[0;34m)\u001b[0m\u001b[0;34m:\u001b[0m\u001b[0;34m\u001b[0m\u001b[0;34m\u001b[0m\u001b[0m\n\u001b[0m\u001b[1;32m     13\u001b[0m \u001b[0;34m\u001b[0m\u001b[0m\n\u001b[1;32m     14\u001b[0m             \u001b[0mcmdlist\u001b[0m \u001b[0;34m=\u001b[0m \u001b[0mcmdlist_list\u001b[0m\u001b[0;34m[\u001b[0m\u001b[0mi\u001b[0m\u001b[0;34m]\u001b[0m\u001b[0;34m\u001b[0m\u001b[0;34m\u001b[0m\u001b[0m\n",
      "\u001b[0;32m~/anaconda3/lib/python3.7/bdb.py\u001b[0m in \u001b[0;36mtrace_dispatch\u001b[0;34m(self, frame, event, arg)\u001b[0m\n\u001b[1;32m     86\u001b[0m             \u001b[0;32mreturn\u001b[0m \u001b[0;31m# None\u001b[0m\u001b[0;34m\u001b[0m\u001b[0;34m\u001b[0m\u001b[0m\n\u001b[1;32m     87\u001b[0m         \u001b[0;32mif\u001b[0m \u001b[0mevent\u001b[0m \u001b[0;34m==\u001b[0m \u001b[0;34m'line'\u001b[0m\u001b[0;34m:\u001b[0m\u001b[0;34m\u001b[0m\u001b[0;34m\u001b[0m\u001b[0m\n\u001b[0;32m---> 88\u001b[0;31m             \u001b[0;32mreturn\u001b[0m \u001b[0mself\u001b[0m\u001b[0;34m.\u001b[0m\u001b[0mdispatch_line\u001b[0m\u001b[0;34m(\u001b[0m\u001b[0mframe\u001b[0m\u001b[0;34m)\u001b[0m\u001b[0;34m\u001b[0m\u001b[0;34m\u001b[0m\u001b[0m\n\u001b[0m\u001b[1;32m     89\u001b[0m         \u001b[0;32mif\u001b[0m \u001b[0mevent\u001b[0m \u001b[0;34m==\u001b[0m \u001b[0;34m'call'\u001b[0m\u001b[0;34m:\u001b[0m\u001b[0;34m\u001b[0m\u001b[0;34m\u001b[0m\u001b[0m\n\u001b[1;32m     90\u001b[0m             \u001b[0;32mreturn\u001b[0m \u001b[0mself\u001b[0m\u001b[0;34m.\u001b[0m\u001b[0mdispatch_call\u001b[0m\u001b[0;34m(\u001b[0m\u001b[0mframe\u001b[0m\u001b[0;34m,\u001b[0m \u001b[0marg\u001b[0m\u001b[0;34m)\u001b[0m\u001b[0;34m\u001b[0m\u001b[0;34m\u001b[0m\u001b[0m\n",
      "\u001b[0;32m~/anaconda3/lib/python3.7/bdb.py\u001b[0m in \u001b[0;36mdispatch_line\u001b[0;34m(self, frame)\u001b[0m\n\u001b[1;32m    111\u001b[0m         \u001b[0;32mif\u001b[0m \u001b[0mself\u001b[0m\u001b[0;34m.\u001b[0m\u001b[0mstop_here\u001b[0m\u001b[0;34m(\u001b[0m\u001b[0mframe\u001b[0m\u001b[0;34m)\u001b[0m \u001b[0;32mor\u001b[0m \u001b[0mself\u001b[0m\u001b[0;34m.\u001b[0m\u001b[0mbreak_here\u001b[0m\u001b[0;34m(\u001b[0m\u001b[0mframe\u001b[0m\u001b[0;34m)\u001b[0m\u001b[0;34m:\u001b[0m\u001b[0;34m\u001b[0m\u001b[0;34m\u001b[0m\u001b[0m\n\u001b[1;32m    112\u001b[0m             \u001b[0mself\u001b[0m\u001b[0;34m.\u001b[0m\u001b[0muser_line\u001b[0m\u001b[0;34m(\u001b[0m\u001b[0mframe\u001b[0m\u001b[0;34m)\u001b[0m\u001b[0;34m\u001b[0m\u001b[0;34m\u001b[0m\u001b[0m\n\u001b[0;32m--> 113\u001b[0;31m             \u001b[0;32mif\u001b[0m \u001b[0mself\u001b[0m\u001b[0;34m.\u001b[0m\u001b[0mquitting\u001b[0m\u001b[0;34m:\u001b[0m \u001b[0;32mraise\u001b[0m \u001b[0mBdbQuit\u001b[0m\u001b[0;34m\u001b[0m\u001b[0;34m\u001b[0m\u001b[0m\n\u001b[0m\u001b[1;32m    114\u001b[0m         \u001b[0;32mreturn\u001b[0m \u001b[0mself\u001b[0m\u001b[0;34m.\u001b[0m\u001b[0mtrace_dispatch\u001b[0m\u001b[0;34m\u001b[0m\u001b[0;34m\u001b[0m\u001b[0m\n\u001b[1;32m    115\u001b[0m \u001b[0;34m\u001b[0m\u001b[0m\n",
      "\u001b[0;31mBdbQuit\u001b[0m: "
     ]
    }
   ],
   "source": [
    "print_every = 10\n",
    "iteration = 0\n",
    "vloss_av = 1.0\n",
    "ploss_av = 1.5\n",
    "loss_av = 2.5\n",
    "\n",
    "msg = \"epoch: {}, iter: {}, vloss: {:.2f}, ploss: {.2f}, loss: {:.2f}, \" +\\\n",
    "      \"vloss (av): {:.2f}, ploss (av): {:.2f}, loss (av): {:.2f}\"\n",
    "\n",
    "with tf.device('/gpu:0'):\n",
    "    for epoch in range(5):\n",
    "        for i in range(2000, len(cmdlist_list)):\n",
    "            \n",
    "            cmdlist = cmdlist_list[i]\n",
    "            memory = memory_list[i]\n",
    "            value = rewards_list[i]\n",
    "            counts = np.array(counts_list[i])\n",
    "            policy = counts / sum(counts)\n",
    "            maxlen = max(len(m) for m in memory)\n",
    "\n",
    "            if len(cmdlist) >= 2 and len(memory) > 0:                \n",
    "                try:\n",
    "                    vloss, ploss, loss = train(memory, cmdlist, value, policy)\n",
    "                    \n",
    "                    vloss_av += 0.01 * (vloss.numpy().item() - vloss_av)\n",
    "                    ploss_av += 0.01 * (ploss.numpy().item() - ploss_av)\n",
    "                    loss_av += 0.01 * (loss.numpy().item() - loss_av)\n",
    "                    \n",
    "                    if iteration % print_every == 0:\n",
    "                        print(msg.format(epoch, iteration, \n",
    "                                         vloss, ploss, loss, \n",
    "                                         vloss_av, ploss_av, loss_av))  \n",
    "                    iteration += 1\n",
    "                    \n",
    "                except Exception as e:\n",
    "                    print(e)\n",
    "                    emsg = \"memory = {}\\n\\nmemorylen={}\\n\\ncmdlist={}\"\n",
    "                    print(emsg.format(memory, len(memory), cmdlist))\n",
    "                    pdb.set_trace()"
   ]
  },
  {
   "cell_type": "code",
   "execution_count": null,
   "metadata": {},
   "outputs": [],
   "source": []
  }
 ],
 "metadata": {
  "kernelspec": {
   "display_name": "Python 3",
   "language": "python",
   "name": "python3"
  },
  "language_info": {
   "codemirror_mode": {
    "name": "ipython",
    "version": 3
   },
   "file_extension": ".py",
   "mimetype": "text/x-python",
   "name": "python",
   "nbconvert_exporter": "python",
   "pygments_lexer": "ipython3",
   "version": "3.7.3"
  }
 },
 "nbformat": 4,
 "nbformat_minor": 2
}
